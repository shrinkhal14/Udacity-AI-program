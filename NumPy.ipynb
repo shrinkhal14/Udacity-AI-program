{
  "nbformat": 4,
  "nbformat_minor": 0,
  "metadata": {
    "colab": {
      "provenance": [],
      "authorship_tag": "ABX9TyNPTWG1FrNKjaJvhJv98nZ4",
      "include_colab_link": true
    },
    "kernelspec": {
      "name": "python3",
      "display_name": "Python 3"
    },
    "language_info": {
      "name": "python"
    }
  },
  "cells": [
    {
      "cell_type": "markdown",
      "metadata": {
        "id": "view-in-github",
        "colab_type": "text"
      },
      "source": [
        "<a href=\"https://colab.research.google.com/github/shrinkhal14/Udacity-AI-program/blob/main/NumPy.ipynb\" target=\"_parent\"><img src=\"https://colab.research.google.com/assets/colab-badge.svg\" alt=\"Open In Colab\"/></a>"
      ]
    },
    {
      "cell_type": "code",
      "source": [
        "import numpy as np\n",
        "#stands for numerical python - a multidim array that is used to store same data types"
      ],
      "metadata": {
        "id": "GHVzPzwyr20U"
      },
      "execution_count": 21,
      "outputs": []
    },
    {
      "cell_type": "code",
      "source": [
        "x=np.random.random(1000000)"
      ],
      "metadata": {
        "id": "TiE4muCjsd9l"
      },
      "execution_count": 22,
      "outputs": []
    },
    {
      "cell_type": "code",
      "source": [
        "print(np.mean(x))"
      ],
      "metadata": {
        "colab": {
          "base_uri": "https://localhost:8080/"
        },
        "id": "C7vdW_1qssJs",
        "outputId": "4c4a31e4-1244-4a2a-ce76-083b82a2cb2e"
      },
      "execution_count": 23,
      "outputs": [
        {
          "output_type": "stream",
          "name": "stdout",
          "text": [
            "0.5001273053662038\n"
          ]
        }
      ]
    },
    {
      "cell_type": "code",
      "source": [
        "#creating numpy ndarrays\n",
        "x=np.array([1,2,3,4,5])\n",
        "print(x)\n",
        "print(type(x))"
      ],
      "metadata": {
        "colab": {
          "base_uri": "https://localhost:8080/"
        },
        "id": "XLNyhI0UsyXR",
        "outputId": "39ad0d2e-b62d-4423-99e5-7f71eaaa60d3"
      },
      "execution_count": 24,
      "outputs": [
        {
          "output_type": "stream",
          "name": "stdout",
          "text": [
            "[1 2 3 4 5]\n",
            "<class 'numpy.ndarray'>\n"
          ]
        }
      ]
    },
    {
      "cell_type": "code",
      "source": [
        "y = np.array([[1,2,3],[4,5,6],[7,8,9]])\n",
        "print(y)\n",
        "print(type(y))\n",
        "print(y.shape) #returns rows and columns\n",
        "print(y.size)  #returns size of the nd array\n",
        "print(y.dtype) #returns type of data type stored in nd array\n",
        "\n"
      ],
      "metadata": {
        "colab": {
          "base_uri": "https://localhost:8080/"
        },
        "id": "jAj5nt8ttpgI",
        "outputId": "d24ab787-d0ee-4047-d1d2-27c59052612f"
      },
      "execution_count": 25,
      "outputs": [
        {
          "output_type": "stream",
          "name": "stdout",
          "text": [
            "[[1 2 3]\n",
            " [4 5 6]\n",
            " [7 8 9]]\n",
            "<class 'numpy.ndarray'>\n",
            "(3, 3)\n",
            "9\n",
            "int64\n"
          ]
        }
      ]
    },
    {
      "cell_type": "code",
      "source": [
        "z = np.array(['Hello','World'])\n",
        "print(type(z))\n",
        "print(z.dtype)"
      ],
      "metadata": {
        "colab": {
          "base_uri": "https://localhost:8080/"
        },
        "id": "9xIF95_RuWEA",
        "outputId": "527e1b74-6aad-4612-907e-e2c36b622191"
      },
      "execution_count": 26,
      "outputs": [
        {
          "output_type": "stream",
          "name": "stdout",
          "text": [
            "<class 'numpy.ndarray'>\n",
            "<U5\n"
          ]
        }
      ]
    },
    {
      "cell_type": "code",
      "source": [
        "a = np.array([1,2.5,6])\n",
        "print(a,a.dtype) #upcasts the data types to make the array of same data type"
      ],
      "metadata": {
        "colab": {
          "base_uri": "https://localhost:8080/"
        },
        "id": "PdS8t-Axu_QQ",
        "outputId": "f0bfeed5-c529-4729-f10c-e053e4d63335"
      },
      "execution_count": 27,
      "outputs": [
        {
          "output_type": "stream",
          "name": "stdout",
          "text": [
            "[1.  2.5 6. ] float64\n"
          ]
        }
      ]
    },
    {
      "cell_type": "code",
      "source": [],
      "metadata": {
        "id": "4P2yRzPfvJKG"
      },
      "execution_count": 27,
      "outputs": []
    }
  ]
}